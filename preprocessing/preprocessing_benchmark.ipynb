{
 "cells": [
  {
   "cell_type": "code",
   "execution_count": 13,
   "id": "72c83e2b-e0b4-451d-8f90-82cee1d97c17",
   "metadata": {},
   "outputs": [],
   "source": [
    "import pandas as pd\n",
    "import re\n",
    "from preprocessor import Preprocessor"
   ]
  },
  {
   "cell_type": "markdown",
   "id": "951b70db-de28-4292-95aa-da36d0edeeea",
   "metadata": {},
   "source": [
    "### preprocessing_cpu 의 일부 함수들 재사용\n",
    "- 주피터 노트북 파일로 작성되어, import 대신 함수 코드들을 재사용\n",
    "- 재사용 함수들은 벤치마크 파일로부터 cpu 이름들을 전처리하는데 사용\n",
    "- 예) Intel Core i5-10400F @ 2.90GHz -> i5-10400F"
   ]
  },
  {
   "cell_type": "code",
   "execution_count": 7,
   "id": "4a9d6bc4-a02d-4e37-96a3-3a11ba261dfe",
   "metadata": {},
   "outputs": [],
   "source": [
    "def get_i3_to_i9_intel_cpu(file, target_column):\n",
    "    preprocessor = Preprocessor(file)\n",
    "    processed = pd.DataFrame()\n",
    "    for core in ['i3', 'i5', 'i7', 'i9']:\n",
    "        processed = pd.concat(\n",
    "            [\n",
    "                processed,\n",
    "                preprocessor.extract_rows_by_keyword_contains(keyword=core, target_column=target_column)\n",
    "            ],\n",
    "            ignore_index=True\n",
    "        )\n",
    "    return processed\n",
    "    \n",
    "def parse_intel_cpu_name(cpu_name):\n",
    "    repeated = 'Intel Core'\n",
    "    start_idx = cpu_name.find(repeated) + len(repeated)\n",
    "    end_idx = cpu_name.find('@')\n",
    "    if end_idx != -1:\n",
    "        return cpu_name[start_idx:end_idx].strip()\n",
    "    return cpu_name[start_idx:].strip()\n",
    "\n",
    "def get_ryzen3_to_9_amd_cpu(file, target_column):\n",
    "    preprocessor = Preprocessor(file)\n",
    "    processed = pd.DataFrame()\n",
    "    for core in ['3', '5', '7', '9']:\n",
    "        processed = pd.concat(\n",
    "            [\n",
    "                processed,\n",
    "                preprocessor.extract_rows_by_keyword_contains(keyword=f\"Ryzen {core}\", target_column=target_column)\n",
    "            ],\n",
    "            ignore_index=True\n",
    "        )\n",
    "    return processed\n",
    "\n",
    "\n",
    "def parse_ryzen_cpu_name(cpu_name):\n",
    "    repeated = 'AMD'\n",
    "    start_idx = cpu_name.find(repeated) + len(repeated)\n",
    "    return cpu_name[start_idx:].strip()"
   ]
  },
  {
   "cell_type": "markdown",
   "id": "6556d1cd-872d-4a81-bc7e-8072a221e630",
   "metadata": {},
   "source": [
    "### 벤치 마크 파일 내용 중, cpu 관련 항목 전처리하기\n",
    "- cpu 이름을 기존 analytics.summary 테이블에 저장되어있는 형태로 파싱하고,\n",
    "- analytics.summary 테이블에 있는 제품에 해당하는 벤치마크 데이터만 추출하여 데이터 프레임으로 반환"
   ]
  },
  {
   "cell_type": "code",
   "execution_count": 8,
   "id": "f1d6af24-aad5-4fbd-afc7-62040c5a788a",
   "metadata": {},
   "outputs": [],
   "source": [
    "def preprocess_cpu_benchmark(benchmark_file, product_names_in_db):\n",
    "    \"\"\"\n",
    "    벤치 마크 파일 내용 중, cpu 관련 항목을 전처리한다.\n",
    "    - cpu 이름을 기존 analytics.summary 테이블에 저장되어있는 형태로 파싱하고,\n",
    "    - analytics.summary 테이블에 있는 제품에 해당하는 벤치마크 데이터만 추출하여 데이터 프레임으로 반환\n",
    "    :param benchmark_file: passmark로부터 크롤링한 벤치마크 파일 제품이름, 벤치마크 점수, 부품 타입을 의미하는 컬럼으로 구성\n",
    "    :param product_names_in_db: analytics.summary 테이블에 있는 제품이름 목록 데이터프레임\n",
    "    :return:\n",
    "    \"\"\"\n",
    "    cpu_names_in_db = product_names_in_db[product_names_in_db['components_of_computer'.upper()] == 'CPU']\n",
    "    benchmarks = pd.concat([\n",
    "        get_i3_to_i9_intel_cpu(benchmark_file, 'product_name'),\n",
    "        get_ryzen3_to_9_amd_cpu(benchmark_file, 'product_name')\n",
    "    ], ignore_index=True)\n",
    "    benchmarks = benchmarks[benchmarks['components_of_computer'] == 'CPU']\n",
    "    new = pd.DataFrame(columns=[\n",
    "        'product_name', 'product_performance', 'components_of_computer'\n",
    "    ])\n",
    "    for row in benchmarks.itertuples():\n",
    "        cpu_name = parse_intel_cpu_name(row.product_name) \\\n",
    "            if row.product_name.startswith('Intel') else parse_ryzen_cpu_name(row.product_name)\n",
    "        cpu_name_matched = cpu_names_in_db[cpu_names_in_db['product_name'.upper()] == cpu_name]\n",
    "        if len(cpu_name_matched) == 0:\n",
    "            continue\n",
    "        new.loc[len(new)] = [\n",
    "            *cpu_name_matched['product_name'.upper()].values, row.product_performance, 'CPU'\n",
    "        ]\n",
    "    return new"
   ]
  },
  {
   "cell_type": "markdown",
   "id": "0aeef3d6-f3ff-4133-8b2d-7fc685b52e5c",
   "metadata": {},
   "source": [
    "### 벤치 마크 파일 내용 중, gpu 관련 항목 전처리하기\n",
    "- gpu 이름을 기존 analytics.summary 테이블에 저장되어있는 형태로 파싱하고,\n",
    "- analytics.summary 테이블에 있는 제품에 해당하는 벤치마크 데이터만 추출하여 데이터 프레임으로 반환"
   ]
  },
  {
   "cell_type": "code",
   "execution_count": 9,
   "id": "53318d0f-c661-498b-8820-717e020d5750",
   "metadata": {},
   "outputs": [],
   "source": [
    "def preprocess_gpu_benchmark(benchmark_file, product_names_in_db):\n",
    "    \"\"\"\n",
    "    벤치 마크 파일 내용 중, gpu 관련 항목을 전처리한다.\n",
    "    - gpu 이름을 기존 analytics.summary 테이블에 저장되어있는 형태로 파싱하고,\n",
    "    - analytics.summary 테이블에 있는 제품에 해당하는 벤치마크 데이터만 추출하여 데이터 프레임으로 반환\n",
    "    :param benchmark_file: passmark로부터 크롤링한 벤치마크 파일 제품이름, 벤치마크 점수, 부품 타입을 의미하는 컬럼으로 구성\n",
    "    :param product_names_in_db: analytics.summary 테이블에 있는 제품이름 목록 데이터프레임\n",
    "    :return: \n",
    "    \"\"\"\n",
    "    gpu_names_in_db = product_names_in_db[product_names_in_db['components_of_computer'.upper()] == 'gpu']\n",
    "    benchmarks = pd.read_csv(benchmark_file)\n",
    "    benchmarks = benchmarks[benchmarks['components_of_computer'] == 'gpu']\n",
    "    benchmarks['processed_name'] = benchmarks.apply(preprocess_gpu_names, axis=1)\n",
    "    new = pd.DataFrame(columns=[\n",
    "        'product_name', 'product_performance', 'components_of_computer'\n",
    "    ])\n",
    "    for row in benchmarks.itertuples():\n",
    "        gpu_name = row.processed_name\n",
    "        gpu_names_matched = gpu_names_in_db[gpu_names_in_db['product_name'.upper()] == gpu_name]\n",
    "        if len(gpu_names_matched) == 0:\n",
    "            continue\n",
    "        new.loc[len(new)] = [\n",
    "            *gpu_names_matched['product_name'.upper()].values, row.product_performance, 'gpu'\n",
    "        ]\n",
    "    return new"
   ]
  },
  {
   "cell_type": "markdown",
   "id": "8d546af3-37b8-4f26-9811-7d1fae615a22",
   "metadata": {},
   "source": [
    "### gpu 이름 전처리하기\n",
    "- 벤치마크 테이블의 gpu이름을 analytics.summary 테이블에 저장된 형태로 파싱\n",
    "- 예) GeForce GTX 1650 Ti -> GTX1650Ti"
   ]
  },
  {
   "cell_type": "code",
   "execution_count": 10,
   "id": "4b5f245e-5e2b-493c-8b60-22a253ad2701",
   "metadata": {},
   "outputs": [],
   "source": [
    "def preprocess_gpu_names(gpu_benchmarks_row):\n",
    "    remove_pattern = r'\\d+GB'\n",
    "    remove_keywords = ['GeForce', 'Radeon', 'NVDIA', 'Intel', 'Quadro', 'OEM', ' ']\n",
    "    gpu_name = gpu_benchmarks_row['product_name']\n",
    "    gpu_name = re.sub(remove_pattern, '', gpu_name)\n",
    "    for remove_keyword in remove_keywords:\n",
    "        gpu_name = gpu_name.replace(remove_keyword, '')\n",
    "    gpu_name = gpu_name.replace('Arc', 'ARC')\n",
    "    return gpu_name.strip()"
   ]
  },
  {
   "cell_type": "markdown",
   "id": "b21b1729-0036-45fc-9adb-2a0bba61996c",
   "metadata": {},
   "source": [
    "### 크롤링한 벤치마크 정보 파일 전처리하여 저장하기\n",
    "- analytics.summary에 저장되어있는 product_name의 값 형태로 cpu, gpu 이름들을 전처리하고,\n",
    "- analytics.summary에 저장되어있는 product들의 벤치마크 정보만 추출하여 csv 파일로 저장한다."
   ]
  },
  {
   "cell_type": "code",
   "execution_count": 15,
   "id": "1b1e72f3-a18d-4afc-8bf6-07ffef904dfc",
   "metadata": {},
   "outputs": [
    {
     "name": "stdout",
     "output_type": "stream",
     "text": [
      "Preprocessing benchmarks done\n"
     ]
    }
   ],
   "source": [
    "def main():\n",
    "    benchmarks_file = \"../crawling/cpu_gpu_bench_marks.csv\"\n",
    "    product_names = pd.read_csv(\"../raw_data/cpu_gpu_products.csv\")\n",
    "    cpu_benchmarks = preprocess_cpu_benchmark(benchmarks_file, product_names)\n",
    "    gpu_benchmarks = preprocess_gpu_benchmark(benchmarks_file, product_names)\n",
    "    merged = pd.concat([cpu_benchmarks, gpu_benchmarks], ignore_index=True)\n",
    "    merged = merged.sort_values(by=['product_performance'])\n",
    "    merged = merged.drop_duplicates(subset=['product_name'], keep='last')\n",
    "    merged = merged.sort_values(by=['product_name'], ignore_index=True)\n",
    "    merged.to_csv(\"../raw_data/existing_cpu_gpu_benchmarks.csv\")\n",
    "    print(\"Preprocessing benchmarks done\")\n",
    "if __name__ == \"__main__\":\n",
    "    main()"
   ]
  },
  {
   "cell_type": "code",
   "execution_count": null,
   "id": "9b56da06-4d65-4e03-b153-b37f90e46af2",
   "metadata": {},
   "outputs": [],
   "source": []
  }
 ],
 "metadata": {
  "kernelspec": {
   "display_name": "Python 3 (ipykernel)",
   "language": "python",
   "name": "python3"
  },
  "language_info": {
   "codemirror_mode": {
    "name": "ipython",
    "version": 3
   },
   "file_extension": ".py",
   "mimetype": "text/x-python",
   "name": "python",
   "nbconvert_exporter": "python",
   "pygments_lexer": "ipython3",
   "version": "3.11.4"
  }
 },
 "nbformat": 4,
 "nbformat_minor": 5
}

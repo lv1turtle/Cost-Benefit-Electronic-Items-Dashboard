{
 "cells": [
  {
   "cell_type": "code",
   "execution_count": null,
   "id": "51b810c6",
   "metadata": {},
   "outputs": [],
   "source": [
    "# sql 환경 세팅\n",
    "\n",
    "%load_ext sql\n",
    "%sql postgresql://[username]:[passowrd]@[host]:[port]/[database]"
   ]
  },
  {
   "cell_type": "code",
   "execution_count": null,
   "id": "687ec1b6",
   "metadata": {},
   "outputs": [],
   "source": [
    "import pandas as pd\n",
    "import re"
   ]
  },
  {
   "cell_type": "code",
   "execution_count": null,
   "id": "82279578",
   "metadata": {},
   "outputs": [],
   "source": [
    "# 크롤링한 데이터 로드\n",
    "data = pd.read_csv('./hotdeal-info.csv')"
   ]
  },
  {
   "cell_type": "code",
   "execution_count": null,
   "id": "d8338c40",
   "metadata": {
    "scrolled": true
   },
   "outputs": [],
   "source": [
    "data"
   ]
  },
  {
   "cell_type": "code",
   "execution_count": null,
   "id": "4ae8c9b0",
   "metadata": {},
   "outputs": [],
   "source": [
    "# Mainboard 키워드 선정\n",
    "\n",
    "mb_name_list = []\n",
    "for title in data['title']:  # 제목에서\n",
    "    mb_name = re.findall('[ABXHZabxhz]\\d\\d0M', title)  # 알파벳 숫자 숫자 0 M 꼴 텍스트 검색\n",
    "    mb_name_list += mb_name\n",
    "mb_name_list = list(set(mb_name_list))\n",
    "mb_name_list"
   ]
  },
  {
   "cell_type": "code",
   "execution_count": null,
   "id": "a05537fc",
   "metadata": {
    "scrolled": true
   },
   "outputs": [],
   "source": [
    "# PWR 키워드 선정\n",
    "\n",
    "pwr_name_list = []\n",
    "for title in data['title']:  # 제목에서\n",
    "    pwr_name = re.findall('[0-9]?[0-9]?[0-9]0W', title)  # '숫자 숫자 숫자 0 W' 꼴 텍스트 검색\n",
    "    pwr_name_list += pwr_name\n",
    "pwr_name_list = sorted(list(set(pwr_name_list)), key=lambda x:int(x[:-1]))\n",
    "pwr_name_list = pwr_name_list[11:] # 200W 이상인 제품 추출 - 200W 이하인 경우 배터리, 충전기 등의 제품 포함 검색\n",
    "pwr_name_list"
   ]
  },
  {
   "cell_type": "code",
   "execution_count": null,
   "id": "079b5eef",
   "metadata": {},
   "outputs": [],
   "source": [
    "import csv\n",
    "\n",
    "with open(\"mb_keyword.csv\", 'w') as file:\n",
    "    writer = csv.writer(file)\n",
    "    writer.writerow(mb_name_list)\n",
    "\n",
    "with open(\"pwr_keyword.csv\", 'w') as file:\n",
    "    writer = csv.writer(file)\n",
    "    writer.writerow(pwr_name_list)"
   ]
  },
  {
   "cell_type": "code",
   "execution_count": null,
   "id": "15a8b7b3",
   "metadata": {},
   "outputs": [],
   "source": [
    "%%sql\n",
    "\n",
    "-- sample_data 스키마 생성\n",
    "CREATE SCHEMA IF NOT EXISTS sample_data;"
   ]
  },
  {
   "cell_type": "code",
   "execution_count": null,
   "id": "ee31ce4e",
   "metadata": {},
   "outputs": [],
   "source": [
    "%%sql\n",
    "\n",
    "-- 원본 데이터 hotdeal_info 테이블 생성\n",
    "CREATE TABLE sample_data.hotdeal_info (\n",
    "  title varchar(255),\n",
    "  created_at timestamp,\n",
    "  price varchar(255),\n",
    "  views integer,\n",
    "  votes integer,\n",
    "  shop_type varchar(255)\n",
    ")"
   ]
  },
  {
   "cell_type": "code",
   "execution_count": null,
   "id": "b490b0cc",
   "metadata": {},
   "outputs": [],
   "source": [
    "%%sql\n",
    "\n",
    "-- 아래 쿼리에서 aws_iam_role의 값은 각자 Redshift cluster에 지정한 S3 읽기 권한 ROLE의 ARN을 지정\n",
    "COPY sample_data.hotdeal_info\n",
    "FROM [s3 url]\n",
    "credentials 'aws_iam_role=[iam arn]'\n",
    "delimiter ',' dateformat 'auto' timeformat 'auto' IGNOREHEADER 1 removequotes;"
   ]
  },
  {
   "cell_type": "code",
   "execution_count": null,
   "id": "94a03a40",
   "metadata": {},
   "outputs": [],
   "source": [
    "%%sql\n",
    "\n",
    "-- MAIN BOARD 키워드 테이블\n",
    "CREATE TABLE IF NOT EXISTS sample_data.mainboard_item (\n",
    "   product_name varchar(5)\n",
    ");\n",
    "\n",
    "-- POWER SUPPLY 키워드 테이블\n",
    "CREATE TABLE IF NOT EXISTS sample_data.power_supply_item (\n",
    "   product_name varchar(10)\n",
    ");"
   ]
  },
  {
   "cell_type": "code",
   "execution_count": null,
   "id": "0c108d8c",
   "metadata": {},
   "outputs": [],
   "source": [
    "%%sql\n",
    "\n",
    "-- MAIN BOARD 키워드 입력\n",
    "-- mb_keyword.csv파일에서 추출된 결과 값을 정리해서 입력\n",
    "INSERT INTO sample_data.mainboard_item (product_name)\n",
    "VALUES\n",
    " ('B450'),\n",
    " ('X370'),\n",
    " ('Z690'),\n",
    " ('Z590'),\n",
    " ('B660'),\n",
    " ('Z370'),\n",
    " ('B350'),\n",
    " ('B250'),\n",
    " ('A520'),\n",
    " ('B760'),\n",
    " ('Z270'),\n",
    " ('H310'),\n",
    " ('H510'),\n",
    " ('B550'),\n",
    " ('B460'),\n",
    " ('B360'),\n",
    " ('B650'),\n",
    " ('H410'),\n",
    " ('Z490'),\n",
    " ('Z390'),\n",
    " ('B560'),\n",
    " ('A620'),\n",
    " ('A320'),\n",
    " ('H370'),\n",
    " ('H570'),\n",
    " ('H610');"
   ]
  },
  {
   "cell_type": "code",
   "execution_count": null,
   "id": "299f12d1",
   "metadata": {},
   "outputs": [],
   "source": [
    "%%sql\n",
    "\n",
    "-- POWER SUPPLY 키워드 입력\n",
    "-- pwr_keyword.csv파일에서 추출된 결과 값을 정리해서 입력\n",
    "INSERT INTO sample_data.power_supply_item (product_name)\n",
    "VALUES\n",
    " ('750W'),\n",
    " ('800W'),\n",
    " ('420W'),\n",
    " ('310W'),\n",
    " ('1600W'),\n",
    " ('1670W'),\n",
    " ('850W'),\n",
    " ('1300W'),\n",
    " ('1560W'),\n",
    " ('500W'),\n",
    " ('1000W'),\n",
    " ('1780W'),\n",
    " ('270W'),\n",
    " ('210W'),\n",
    " ('600W'),\n",
    " ('900W'),\n",
    " ('330W'),\n",
    " ('700W'),\n",
    " ('550W'),\n",
    " ('2160W'),\n",
    " ('1650W'),\n",
    " ('1050W'),\n",
    " ('400W'),\n",
    " ('1250W'),\n",
    " ('200W'),\n",
    " ('240W'),\n",
    " ('3700W'),\n",
    " ('3680W'),\n",
    " ('5310W'),\n",
    " ('890W'),\n",
    " ('9500W'),\n",
    " ('810W'),\n",
    " ('3300W'),\n",
    " ('710W'),\n",
    " ('220W'),\n",
    " ('2030W'),\n",
    " ('630W'),\n",
    " ('5500W'),\n",
    " ('770W'),\n",
    " ('650W'),\n",
    " ('1200W')"
   ]
  },
  {
   "cell_type": "code",
   "execution_count": null,
   "id": "e7ae37a4",
   "metadata": {},
   "outputs": [],
   "source": [
    "%%sql\n",
    "\n",
    "-- MAIN BOARD\n",
    "SELECT A.title\n",
    "     , A.created_at\n",
    "     , REGEXP_REPLACE(price,'[^0-9.]+','') AS price\n",
    "     --, REGEXP_REPLACE(price,'[^a-zA-Z]','') currency\n",
    "     , A.shop_type\n",
    "     , A.votes\n",
    "     , A.views\n",
    "     , B.product_name AS product\n",
    "     , 'mainboard' AS components_of_computer\n",
    "  FROM sample_data.hotdeal_info A\n",
    "  JOIN sample_data.mainboard_item B\n",
    "    ON TRIM(' ' FROM UPPER(A.title)) LIKE ('%' || UPPER(B.product_name) || '%') -- 대문자로 치환해서 product_name 값이 들어있는 단어 추출\n",
    ";"
   ]
  },
  {
   "cell_type": "code",
   "execution_count": null,
   "id": "2d90a9ec",
   "metadata": {},
   "outputs": [],
   "source": [
    "%%sql\n",
    "\n",
    "-- POWER SUPPLY 전처리 생성\n",
    "SELECT A.title\n",
    "     , A.created_at\n",
    "     , REGEXP_REPLACE(price,'[^0-9.]+','') AS price\n",
    "     --, REGEXP_REPLACE(price,'[^a-zA-Z]','') currency\n",
    "     , A.shop_type\n",
    "     , A.votes\n",
    "     , A.views\n",
    "     , B.product_name AS product\n",
    "     , 'power supply' AS components_of_computer\n",
    "  FROM sample_data.hotdeal_info A\n",
    "  JOIN sample_data.power_supply_item B\n",
    "    ON TRIM(' ' FROM UPPER(A.title)) LIKE ('% ' || B.product_name || ' %') -- 대문자 치환 후 product_name 값이 들어있는 단어 추출\n",
    ";"
   ]
  }
 ],
 "metadata": {
  "kernelspec": {
   "display_name": "Python 3 (ipykernel)",
   "language": "python",
   "name": "python3"
  },
  "language_info": {
   "codemirror_mode": {
    "name": "ipython",
    "version": 3
   },
   "file_extension": ".py",
   "mimetype": "text/x-python",
   "name": "python",
   "nbconvert_exporter": "python",
   "pygments_lexer": "ipython3",
   "version": "3.11.4"
  }
 },
 "nbformat": 4,
 "nbformat_minor": 5
}

{
 "cells": [
  {
   "cell_type": "markdown",
   "metadata": {},
   "source": [
    "# Title에서 shop_type 추출"
   ]
  },
  {
   "cell_type": "code",
   "execution_count": 2,
   "metadata": {
    "metadata": {}
   },
   "outputs": [],
   "source": [
    "import pandas as pd"
   ]
  },
  {
   "cell_type": "code",
   "execution_count": 3,
   "metadata": {
    "metadata": {}
   },
   "outputs": [],
   "source": [
    "data = pd.read_csv(\"./hotdeal-info_utf-8-encoded_2024-05-13 18_50_00.322657.csv\")"
   ]
  },
  {
   "cell_type": "code",
   "execution_count": 4,
   "metadata": {
    "metadata": {}
   },
   "outputs": [
    {
     "name": "stdout",
     "output_type": "stream",
     "text": [
      "<class 'pandas.core.frame.DataFrame'>\n",
      "RangeIndex: 37156 entries, 0 to 37155\n",
      "Data columns (total 5 columns):\n",
      " #   Column      Non-Null Count  Dtype \n",
      "---  ------      --------------  ----- \n",
      " 0   title       37156 non-null  object\n",
      " 1   created_at  37156 non-null  object\n",
      " 2   price       37156 non-null  object\n",
      " 3   views       37156 non-null  int64 \n",
      " 4   votes       37156 non-null  int64 \n",
      "dtypes: int64(2), object(3)\n",
      "memory usage: 1.4+ MB\n"
     ]
    },
    {
     "data": {
      "text/html": [
       "<div>\n",
       "<style scoped>\n",
       "    .dataframe tbody tr th:only-of-type {\n",
       "        vertical-align: middle;\n",
       "    }\n",
       "\n",
       "    .dataframe tbody tr th {\n",
       "        vertical-align: top;\n",
       "    }\n",
       "\n",
       "    .dataframe thead th {\n",
       "        text-align: right;\n",
       "    }\n",
       "</style>\n",
       "<table border=\"1\" class=\"dataframe\">\n",
       "  <thead>\n",
       "    <tr style=\"text-align: right;\">\n",
       "      <th></th>\n",
       "      <th>title</th>\n",
       "      <th>created_at</th>\n",
       "      <th>price</th>\n",
       "      <th>views</th>\n",
       "      <th>votes</th>\n",
       "    </tr>\n",
       "  </thead>\n",
       "  <tbody>\n",
       "    <tr>\n",
       "      <th>0</th>\n",
       "      <td>[지마켓] SF-1200F14XP LEADEX VII PLATINUM PRO ATX...</td>\n",
       "      <td>2024-05-13</td>\n",
       "      <td>￦276,680(KRW)</td>\n",
       "      <td>216</td>\n",
       "      <td>0</td>\n",
       "    </tr>\n",
       "    <tr>\n",
       "      <th>1</th>\n",
       "      <td>[오늘의집] 삼성 브랜드위크 S32CG550 외 7건 (273,773/무배)</td>\n",
       "      <td>2024-05-13</td>\n",
       "      <td>￦273,773(KRW)</td>\n",
       "      <td>521</td>\n",
       "      <td>0</td>\n",
       "    </tr>\n",
       "    <tr>\n",
       "      <th>2</th>\n",
       "      <td>[위메프] ASUS ROG STRIX B650-A GAMING WIFI 대원씨티에스...</td>\n",
       "      <td>2024-05-13</td>\n",
       "      <td>￦299,700(KRW)</td>\n",
       "      <td>1600</td>\n",
       "      <td>0</td>\n",
       "    </tr>\n",
       "    <tr>\n",
       "      <th>3</th>\n",
       "      <td>[알리] XrayDisk M.2 NVMe 512GB Pro ($13.20)</td>\n",
       "      <td>2024-05-13</td>\n",
       "      <td>$13.2(USD)</td>\n",
       "      <td>2700</td>\n",
       "      <td>6</td>\n",
       "    </tr>\n",
       "    <tr>\n",
       "      <th>4</th>\n",
       "      <td>[지마켓] LIAN LI UNI FAN SL-INF 120 RGB 화이트 3팩</td>\n",
       "      <td>2024-05-13</td>\n",
       "      <td>￦110,500(KRW)</td>\n",
       "      <td>1500</td>\n",
       "      <td>2</td>\n",
       "    </tr>\n",
       "  </tbody>\n",
       "</table>\n",
       "</div>"
      ],
      "text/plain": [
       "                                               title  created_at  \\\n",
       "0  [지마켓] SF-1200F14XP LEADEX VII PLATINUM PRO ATX...  2024-05-13   \n",
       "1         [오늘의집] 삼성 브랜드위크 S32CG550 외 7건 (273,773/무배)  2024-05-13   \n",
       "2  [위메프] ASUS ROG STRIX B650-A GAMING WIFI 대원씨티에스...  2024-05-13   \n",
       "3          [알리] XrayDisk M.2 NVMe 512GB Pro ($13.20)  2024-05-13   \n",
       "4        [지마켓] LIAN LI UNI FAN SL-INF 120 RGB 화이트 3팩  2024-05-13   \n",
       "\n",
       "           price  views  votes  \n",
       "0  ￦276,680(KRW)    216      0  \n",
       "1  ￦273,773(KRW)    521      0  \n",
       "2  ￦299,700(KRW)   1600      0  \n",
       "3     $13.2(USD)   2700      6  \n",
       "4  ￦110,500(KRW)   1500      2  "
      ]
     },
     "execution_count": 4,
     "metadata": {},
     "output_type": "execute_result"
    }
   ],
   "source": [
    "data.info()\n",
    "data.head(5)"
   ]
  },
  {
   "cell_type": "markdown",
   "metadata": {},
   "source": [
    "- 키워드 기반 필터링\n",
    "- 데이터가 1000행 이상인 11번가, G마켓, 아마존, 롯데온, 티몬, 위메프 만 shop_type 추가"
   ]
  },
  {
   "cell_type": "code",
   "execution_count": 15,
   "metadata": {
    "metadata": {}
   },
   "outputs": [],
   "source": [
    "import re\n",
    "\n",
    "## 키워드 기반 데이터가 1000개 이상인 7개 쇼핑몰만 필터링\n",
    "def get_shop_type(row):\n",
    "    pattern = re.compile('[^a-zA-Zㄱ-ㅎㅏ-ㅣ가-힣\\s]')\n",
    "    # 제목에서 특수문자 제외, 소문자만 남기기\n",
    "    title = re.sub(pattern, '', row[\"title\"][:10].lower())\n",
    "    \n",
    "    # 11번가 키워드 그룹 확인\n",
    "    if re.search('11번가|11마존|11st', title, re.IGNORECASE):\n",
    "        return '11번가'\n",
    "    # G마켓 키워드 그룹 확인\n",
    "    elif re.search('g마켓|지마켓|gmarket', title, re.IGNORECASE):\n",
    "        return 'G마켓'\n",
    "    elif re.search('알리|ali', title, re.IGNORECASE):\n",
    "        return '알리'\n",
    "    elif re.search('아마존|amazon', title, re.IGNORECASE):\n",
    "        return '아마존'\n",
    "    elif re.search('롯데|롯데온', title, re.IGNORECASE):\n",
    "        return '롯데온'\n",
    "    elif re.search('티몬|t몬|tmon', title, re.IGNORECASE):\n",
    "        return '티몬'\n",
    "    elif re.search('위메프', title, re.IGNORECASE):\n",
    "        return '위메프'\n",
    "    # 키워드 그룹이 없는 경우\n",
    "    else:\n",
    "        return None"
   ]
  },
  {
   "cell_type": "code",
   "execution_count": 9,
   "metadata": {
    "metadata": {}
   },
   "outputs": [],
   "source": [
    "df = data.copy()\n",
    "\n",
    "df[\"shop_type\"] = df.apply(get_shop_type, axis=1)"
   ]
  },
  {
   "cell_type": "code",
   "execution_count": 10,
   "metadata": {
    "metadata": {}
   },
   "outputs": [
    {
     "data": {
      "text/html": [
       "<div>\n",
       "<style scoped>\n",
       "    .dataframe tbody tr th:only-of-type {\n",
       "        vertical-align: middle;\n",
       "    }\n",
       "\n",
       "    .dataframe tbody tr th {\n",
       "        vertical-align: top;\n",
       "    }\n",
       "\n",
       "    .dataframe thead th {\n",
       "        text-align: right;\n",
       "    }\n",
       "</style>\n",
       "<table border=\"1\" class=\"dataframe\">\n",
       "  <thead>\n",
       "    <tr style=\"text-align: right;\">\n",
       "      <th></th>\n",
       "      <th>shop_type</th>\n",
       "      <th>title</th>\n",
       "    </tr>\n",
       "  </thead>\n",
       "  <tbody>\n",
       "    <tr>\n",
       "      <th>0</th>\n",
       "      <td>G마켓</td>\n",
       "      <td>[지마켓] SF-1200F14XP LEADEX VII PLATINUM PRO ATX...</td>\n",
       "    </tr>\n",
       "    <tr>\n",
       "      <th>1</th>\n",
       "      <td>None</td>\n",
       "      <td>[오늘의집] 삼성 브랜드위크 S32CG550 외 7건 (273,773/무배)</td>\n",
       "    </tr>\n",
       "    <tr>\n",
       "      <th>2</th>\n",
       "      <td>위메프</td>\n",
       "      <td>[위메프] ASUS ROG STRIX B650-A GAMING WIFI 대원씨티에스...</td>\n",
       "    </tr>\n",
       "    <tr>\n",
       "      <th>3</th>\n",
       "      <td>알리</td>\n",
       "      <td>[알리] XrayDisk M.2 NVMe 512GB Pro ($13.20)</td>\n",
       "    </tr>\n",
       "    <tr>\n",
       "      <th>4</th>\n",
       "      <td>G마켓</td>\n",
       "      <td>[지마켓] LIAN LI UNI FAN SL-INF 120 RGB 화이트 3팩</td>\n",
       "    </tr>\n",
       "    <tr>\n",
       "      <th>...</th>\n",
       "      <td>...</td>\n",
       "      <td>...</td>\n",
       "    </tr>\n",
       "    <tr>\n",
       "      <th>37151</th>\n",
       "      <td>None</td>\n",
       "      <td>JONSBO SOLAR ECLIPSE LED WHITE 한정 특가</td>\n",
       "    </tr>\n",
       "    <tr>\n",
       "      <th>37152</th>\n",
       "      <td>None</td>\n",
       "      <td>11번가, 필립스 34인치 WQHD 커브드 모니터 특가</td>\n",
       "    </tr>\n",
       "    <tr>\n",
       "      <th>37153</th>\n",
       "      <td>G마켓</td>\n",
       "      <td>[G마켓] SanDisk Ultra Fit USB3.0 32G+32GSet (19,...</td>\n",
       "    </tr>\n",
       "    <tr>\n",
       "      <th>37154</th>\n",
       "      <td>None</td>\n",
       "      <td>Plextor M6GV M.2 256GB MLC SSD 100개 한정 판매 [이어폰...</td>\n",
       "    </tr>\n",
       "    <tr>\n",
       "      <th>37155</th>\n",
       "      <td>None</td>\n",
       "      <td>ASUS RT-AC88U 공유기 출시 기념 특가 판매</td>\n",
       "    </tr>\n",
       "  </tbody>\n",
       "</table>\n",
       "<p>37156 rows × 2 columns</p>\n",
       "</div>"
      ],
      "text/plain": [
       "      shop_type                                              title\n",
       "0           G마켓  [지마켓] SF-1200F14XP LEADEX VII PLATINUM PRO ATX...\n",
       "1          None         [오늘의집] 삼성 브랜드위크 S32CG550 외 7건 (273,773/무배)\n",
       "2           위메프  [위메프] ASUS ROG STRIX B650-A GAMING WIFI 대원씨티에스...\n",
       "3            알리          [알리] XrayDisk M.2 NVMe 512GB Pro ($13.20)\n",
       "4           G마켓        [지마켓] LIAN LI UNI FAN SL-INF 120 RGB 화이트 3팩\n",
       "...         ...                                                ...\n",
       "37151      None               JONSBO SOLAR ECLIPSE LED WHITE 한정 특가\n",
       "37152      None                     11번가, 필립스 34인치 WQHD 커브드 모니터 특가\n",
       "37153       G마켓  [G마켓] SanDisk Ultra Fit USB3.0 32G+32GSet (19,...\n",
       "37154      None  Plextor M6GV M.2 256GB MLC SSD 100개 한정 판매 [이어폰...\n",
       "37155      None                      ASUS RT-AC88U 공유기 출시 기념 특가 판매\n",
       "\n",
       "[37156 rows x 2 columns]"
      ]
     },
     "execution_count": 10,
     "metadata": {},
     "output_type": "execute_result"
    }
   ],
   "source": [
    "df[[\"shop_type\", \"title\"]]"
   ]
  },
  {
   "cell_type": "code",
   "execution_count": 12,
   "metadata": {
    "metadata": {}
   },
   "outputs": [],
   "source": [
    "# title과 shop_type만\n",
    "df = df[[\"title\", \"shop_type\"]]"
   ]
  },
  {
   "cell_type": "code",
   "execution_count": 16,
   "metadata": {
    "metadata": {}
   },
   "outputs": [
    {
     "data": {
      "text/html": [
       "<div>\n",
       "<style scoped>\n",
       "    .dataframe tbody tr th:only-of-type {\n",
       "        vertical-align: middle;\n",
       "    }\n",
       "\n",
       "    .dataframe tbody tr th {\n",
       "        vertical-align: top;\n",
       "    }\n",
       "\n",
       "    .dataframe thead th {\n",
       "        text-align: right;\n",
       "    }\n",
       "</style>\n",
       "<table border=\"1\" class=\"dataframe\">\n",
       "  <thead>\n",
       "    <tr style=\"text-align: right;\">\n",
       "      <th></th>\n",
       "      <th>title</th>\n",
       "      <th>shop_type</th>\n",
       "    </tr>\n",
       "  </thead>\n",
       "  <tbody>\n",
       "    <tr>\n",
       "      <th>0</th>\n",
       "      <td>[지마켓] SF-1200F14XP LEADEX VII PLATINUM PRO ATX...</td>\n",
       "      <td>G마켓</td>\n",
       "    </tr>\n",
       "    <tr>\n",
       "      <th>1</th>\n",
       "      <td>[오늘의집] 삼성 브랜드위크 S32CG550 외 7건 (273,773/무배)</td>\n",
       "      <td>None</td>\n",
       "    </tr>\n",
       "    <tr>\n",
       "      <th>2</th>\n",
       "      <td>[위메프] ASUS ROG STRIX B650-A GAMING WIFI 대원씨티에스...</td>\n",
       "      <td>위메프</td>\n",
       "    </tr>\n",
       "  </tbody>\n",
       "</table>\n",
       "</div>"
      ],
      "text/plain": [
       "                                               title shop_type\n",
       "0  [지마켓] SF-1200F14XP LEADEX VII PLATINUM PRO ATX...       G마켓\n",
       "1         [오늘의집] 삼성 브랜드위크 S32CG550 외 7건 (273,773/무배)      None\n",
       "2  [위메프] ASUS ROG STRIX B650-A GAMING WIFI 대원씨티에스...       위메프"
      ]
     },
     "execution_count": 16,
     "metadata": {},
     "output_type": "execute_result"
    }
   ],
   "source": [
    "df.head(3)"
   ]
  },
  {
   "cell_type": "code",
   "execution_count": 14,
   "metadata": {
    "metadata": {}
   },
   "outputs": [],
   "source": [
    "df.to_csv(\"hotdeal-info_shop_type.csv\", encoding=\"utf8\", index=False)"
   ]
  }
 ],
 "metadata": {
  "kernelspec": {
   "display_name": "base",
   "language": "python",
   "name": "python3"
  },
  "language_info": {
   "codemirror_mode": {
    "name": "ipython",
    "version": 3
   },
   "file_extension": ".py",
   "mimetype": "text/x-python",
   "name": "python",
   "nbconvert_exporter": "python",
   "pygments_lexer": "ipython3",
   "version": "3.8.8"
  }
 },
 "nbformat": 4,
 "nbformat_minor": 2
}

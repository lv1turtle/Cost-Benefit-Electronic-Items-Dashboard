{
 "cells": [
  {
   "cell_type": "markdown",
   "metadata": {},
   "source": [
    "# price 전처리\n",
    "- 숫자 추출\n",
    "- 외국 화폐의 경우, 원화(KRW) 기준으로 처리\n",
    "- 그 외 전처리"
   ]
  },
  {
   "cell_type": "code",
   "execution_count": 66,
   "metadata": {
    "metadata": {}
   },
   "outputs": [],
   "source": [
    "import pandas as pd"
   ]
  },
  {
   "cell_type": "code",
   "execution_count": 67,
   "metadata": {
    "metadata": {}
   },
   "outputs": [],
   "source": [
    "data = pd.read_csv(\"./hotdeal-info_utf-8-encoded_2024-05-13 18_50_00.322657.csv\")"
   ]
  },
  {
   "cell_type": "code",
   "execution_count": 68,
   "metadata": {
    "metadata": {}
   },
   "outputs": [],
   "source": [
    "# 연도 필터링 -\n",
    "data[\"year\"] = pd.to_datetime(data[\"created_at\"]).dt.year\n",
    "data = data[data['year'] >= 2021]"
   ]
  },
  {
   "cell_type": "code",
   "execution_count": 69,
   "metadata": {
    "metadata": {}
   },
   "outputs": [
    {
     "data": {
      "text/html": [
       "<div>\n",
       "<style scoped>\n",
       "    .dataframe tbody tr th:only-of-type {\n",
       "        vertical-align: middle;\n",
       "    }\n",
       "\n",
       "    .dataframe tbody tr th {\n",
       "        vertical-align: top;\n",
       "    }\n",
       "\n",
       "    .dataframe thead th {\n",
       "        text-align: right;\n",
       "    }\n",
       "</style>\n",
       "<table border=\"1\" class=\"dataframe\">\n",
       "  <thead>\n",
       "    <tr style=\"text-align: right;\">\n",
       "      <th></th>\n",
       "      <th>title</th>\n",
       "      <th>created_at</th>\n",
       "      <th>price</th>\n",
       "      <th>views</th>\n",
       "      <th>votes</th>\n",
       "      <th>year</th>\n",
       "    </tr>\n",
       "  </thead>\n",
       "  <tbody>\n",
       "    <tr>\n",
       "      <th>0</th>\n",
       "      <td>[지마켓] SF-1200F14XP LEADEX VII PLATINUM PRO ATX...</td>\n",
       "      <td>2024-05-13</td>\n",
       "      <td>￦276,680(KRW)</td>\n",
       "      <td>216</td>\n",
       "      <td>0</td>\n",
       "      <td>2024</td>\n",
       "    </tr>\n",
       "    <tr>\n",
       "      <th>1</th>\n",
       "      <td>[오늘의집] 삼성 브랜드위크 S32CG550 외 7건 (273,773/무배)</td>\n",
       "      <td>2024-05-13</td>\n",
       "      <td>￦273,773(KRW)</td>\n",
       "      <td>521</td>\n",
       "      <td>0</td>\n",
       "      <td>2024</td>\n",
       "    </tr>\n",
       "    <tr>\n",
       "      <th>2</th>\n",
       "      <td>[위메프] ASUS ROG STRIX B650-A GAMING WIFI 대원씨티에스...</td>\n",
       "      <td>2024-05-13</td>\n",
       "      <td>￦299,700(KRW)</td>\n",
       "      <td>1600</td>\n",
       "      <td>0</td>\n",
       "      <td>2024</td>\n",
       "    </tr>\n",
       "    <tr>\n",
       "      <th>3</th>\n",
       "      <td>[알리] XrayDisk M.2 NVMe 512GB Pro ($13.20)</td>\n",
       "      <td>2024-05-13</td>\n",
       "      <td>$13.2(USD)</td>\n",
       "      <td>2700</td>\n",
       "      <td>6</td>\n",
       "      <td>2024</td>\n",
       "    </tr>\n",
       "    <tr>\n",
       "      <th>4</th>\n",
       "      <td>[지마켓] LIAN LI UNI FAN SL-INF 120 RGB 화이트 3팩</td>\n",
       "      <td>2024-05-13</td>\n",
       "      <td>￦110,500(KRW)</td>\n",
       "      <td>1500</td>\n",
       "      <td>2</td>\n",
       "      <td>2024</td>\n",
       "    </tr>\n",
       "  </tbody>\n",
       "</table>\n",
       "</div>"
      ],
      "text/plain": [
       "                                               title  created_at  \\\n",
       "0  [지마켓] SF-1200F14XP LEADEX VII PLATINUM PRO ATX...  2024-05-13   \n",
       "1         [오늘의집] 삼성 브랜드위크 S32CG550 외 7건 (273,773/무배)  2024-05-13   \n",
       "2  [위메프] ASUS ROG STRIX B650-A GAMING WIFI 대원씨티에스...  2024-05-13   \n",
       "3          [알리] XrayDisk M.2 NVMe 512GB Pro ($13.20)  2024-05-13   \n",
       "4        [지마켓] LIAN LI UNI FAN SL-INF 120 RGB 화이트 3팩  2024-05-13   \n",
       "\n",
       "           price  views  votes  year  \n",
       "0  ￦276,680(KRW)    216      0  2024  \n",
       "1  ￦273,773(KRW)    521      0  2024  \n",
       "2  ￦299,700(KRW)   1600      0  2024  \n",
       "3     $13.2(USD)   2700      6  2024  \n",
       "4  ￦110,500(KRW)   1500      2  2024  "
      ]
     },
     "execution_count": 69,
     "metadata": {},
     "output_type": "execute_result"
    }
   ],
   "source": [
    "data.head()"
   ]
  },
  {
   "cell_type": "code",
   "execution_count": 70,
   "metadata": {
    "metadata": {}
   },
   "outputs": [],
   "source": [
    "import re"
   ]
  },
  {
   "cell_type": "markdown",
   "metadata": {},
   "source": [
    "### 숫자, 화폐 비율 계산"
   ]
  },
  {
   "cell_type": "code",
   "execution_count": 71,
   "metadata": {
    "metadata": {}
   },
   "outputs": [],
   "source": [
    "# 화폐 단위 추출\n",
    "def identify_currency(row):\n",
    "    price = row[\"price\"]\n",
    "    if price.startswith('￦') or '원' in price:\n",
    "        return 'KRW'\n",
    "    elif price.startswith('$'):\n",
    "        return 'USD'\n",
    "    elif price.startswith('€'):\n",
    "        return 'EUR'\n",
    "    elif price.startswith('¥') or 'CNY' in price:\n",
    "        return 'CNY'\n",
    "    elif 'JPY' in price:\n",
    "        return 'JPY'\n",
    "    elif price.startswith('£'):\n",
    "        return 'GBP'\n",
    "    else:\n",
    "        return 'KRW'  # 기본값은 KRW\n",
    "    \n",
    "data[\"currency\"] = data.apply(identify_currency, axis=1)"
   ]
  },
  {
   "cell_type": "code",
   "execution_count": 72,
   "metadata": {
    "metadata": {}
   },
   "outputs": [],
   "source": [
    "# price에서 가격만 가져오기\n",
    "def clean_price(row):\n",
    "    price = row[\"price\"]\n",
    "    cleaned_price = re.sub('[^0-9.]', '', price)\n",
    "    if not cleaned_price:\n",
    "        return None\n",
    "    elif cleaned_price == '.':\n",
    "        return None\n",
    "    else:\n",
    "        return cleaned_price\n",
    "    \n",
    "data[\"numeric_price\"] = data.apply(clean_price, axis=1)"
   ]
  },
  {
   "cell_type": "markdown",
   "metadata": {},
   "source": [
    "확인하기"
   ]
  },
  {
   "cell_type": "code",
   "execution_count": 75,
   "metadata": {
    "metadata": {}
   },
   "outputs": [
    {
     "data": {
      "text/html": [
       "<div>\n",
       "<style scoped>\n",
       "    .dataframe tbody tr th:only-of-type {\n",
       "        vertical-align: middle;\n",
       "    }\n",
       "\n",
       "    .dataframe tbody tr th {\n",
       "        vertical-align: top;\n",
       "    }\n",
       "\n",
       "    .dataframe thead th {\n",
       "        text-align: right;\n",
       "    }\n",
       "</style>\n",
       "<table border=\"1\" class=\"dataframe\">\n",
       "  <thead>\n",
       "    <tr style=\"text-align: right;\">\n",
       "      <th></th>\n",
       "      <th>price</th>\n",
       "      <th>currency</th>\n",
       "      <th>numeric_price</th>\n",
       "    </tr>\n",
       "  </thead>\n",
       "  <tbody>\n",
       "    <tr>\n",
       "      <th>0</th>\n",
       "      <td>￦276,680(KRW)</td>\n",
       "      <td>KRW</td>\n",
       "      <td>276680</td>\n",
       "    </tr>\n",
       "    <tr>\n",
       "      <th>1</th>\n",
       "      <td>￦273,773(KRW)</td>\n",
       "      <td>KRW</td>\n",
       "      <td>273773</td>\n",
       "    </tr>\n",
       "    <tr>\n",
       "      <th>2</th>\n",
       "      <td>￦299,700(KRW)</td>\n",
       "      <td>KRW</td>\n",
       "      <td>299700</td>\n",
       "    </tr>\n",
       "    <tr>\n",
       "      <th>3</th>\n",
       "      <td>$13.2(USD)</td>\n",
       "      <td>USD</td>\n",
       "      <td>13.2</td>\n",
       "    </tr>\n",
       "    <tr>\n",
       "      <th>4</th>\n",
       "      <td>￦110,500(KRW)</td>\n",
       "      <td>KRW</td>\n",
       "      <td>110500</td>\n",
       "    </tr>\n",
       "    <tr>\n",
       "      <th>...</th>\n",
       "      <td>...</td>\n",
       "      <td>...</td>\n",
       "      <td>...</td>\n",
       "    </tr>\n",
       "    <tr>\n",
       "      <th>27555</th>\n",
       "      <td>￦95,475(KRW)</td>\n",
       "      <td>KRW</td>\n",
       "      <td>95475</td>\n",
       "    </tr>\n",
       "    <tr>\n",
       "      <th>27556</th>\n",
       "      <td>￦64,600(KRW)</td>\n",
       "      <td>KRW</td>\n",
       "      <td>64600</td>\n",
       "    </tr>\n",
       "    <tr>\n",
       "      <th>27557</th>\n",
       "      <td>￦657,390(KRW)</td>\n",
       "      <td>KRW</td>\n",
       "      <td>657390</td>\n",
       "    </tr>\n",
       "    <tr>\n",
       "      <th>27558</th>\n",
       "      <td>￦371,061(KRW)</td>\n",
       "      <td>KRW</td>\n",
       "      <td>371061</td>\n",
       "    </tr>\n",
       "    <tr>\n",
       "      <th>27559</th>\n",
       "      <td>￦65,000(KRW)</td>\n",
       "      <td>KRW</td>\n",
       "      <td>65000</td>\n",
       "    </tr>\n",
       "  </tbody>\n",
       "</table>\n",
       "<p>27560 rows × 3 columns</p>\n",
       "</div>"
      ],
      "text/plain": [
       "               price currency numeric_price\n",
       "0      ￦276,680(KRW)      KRW        276680\n",
       "1      ￦273,773(KRW)      KRW        273773\n",
       "2      ￦299,700(KRW)      KRW        299700\n",
       "3         $13.2(USD)      USD          13.2\n",
       "4      ￦110,500(KRW)      KRW        110500\n",
       "...              ...      ...           ...\n",
       "27555   ￦95,475(KRW)      KRW         95475\n",
       "27556   ￦64,600(KRW)      KRW         64600\n",
       "27557  ￦657,390(KRW)      KRW        657390\n",
       "27558  ￦371,061(KRW)      KRW        371061\n",
       "27559   ￦65,000(KRW)      KRW         65000\n",
       "\n",
       "[27560 rows x 3 columns]"
      ]
     },
     "execution_count": 75,
     "metadata": {},
     "output_type": "execute_result"
    }
   ],
   "source": [
    "data[[\"price\", \"currency\", \"numeric_price\"]]"
   ]
  },
  {
   "cell_type": "markdown",
   "metadata": {},
   "source": [
    "### 추가 전처리"
   ]
  },
  {
   "cell_type": "markdown",
   "metadata": {},
   "source": [
    "1. `,` 대신 `.`을 쓴 경우"
   ]
  },
  {
   "cell_type": "code",
   "execution_count": 76,
   "metadata": {
    "metadata": {}
   },
   "outputs": [],
   "source": [
    "def update_numeric_price(numeric_price):\n",
    "    # '.'로 구분된 숫자 패턴에 매칭되는 경우에만 업데이트\n",
    "    if re.match(r'\\d+\\.\\d+\\.\\d+', numeric_price):\n",
    "        return re.sub('[^0-9]', '', numeric_price)\n",
    "    else:\n",
    "        return numeric_price\n",
    "\n",
    "# 매칭 문제로 null 값 삭제\n",
    "data.dropna(inplace=True)\n",
    "data[\"numeric_price\"] = data[\"numeric_price\"].apply(update_numeric_price)"
   ]
  },
  {
   "cell_type": "markdown",
   "metadata": {},
   "source": [
    "2. USD인데 KRW라고 올린 경우"
   ]
  },
  {
   "cell_type": "code",
   "execution_count": 80,
   "metadata": {
    "metadata": {}
   },
   "outputs": [],
   "source": [
    "data.loc[data[\"title\"] == '[뉴에그] WD BLACK SN850 1TB ($174.99/미국내무료)', \"currency\"] = \"USD\"\n",
    "data.loc[data[\"title\"] == '[Amazon] SK hynix Gold P31 2TB ($195.99/?)', \"currency\"] = \"USD\"\n",
    "data.loc[data[\"title\"] == '(아마존/뉴에그)WD_Black 1TB SN850 NVMe 최저가 관세내', \"currency\"] = \"USD\"\n",
    "data.loc[data[\"title\"] == '[AKG.com] n5005 199불!', \"currency\"] = \"USD\""
   ]
  },
  {
   "cell_type": "markdown",
   "metadata": {},
   "source": [
    "3. KRW가 맞는데 오타가 난 경우"
   ]
  },
  {
   "cell_type": "code",
   "execution_count": 81,
   "metadata": {
    "metadata": {}
   },
   "outputs": [],
   "source": [
    "data.loc[data[\"title\"] == '[옥션] 삼성 ssd 980 pro 1TB MZ-V8P1T0BW(122,960/무료)', \"numeric_price\"] = '122960'\n",
    "data.loc[data[\"title\"] == '[알리]삼성980 pro 1tb', \"numeric_price\"] = '78080'"
   ]
  },
  {
   "cell_type": "markdown",
   "metadata": {},
   "source": [
    "4. 맨 끝에 `.`이 있는 경우 (81.99.)"
   ]
  },
  {
   "cell_type": "code",
   "execution_count": 82,
   "metadata": {
    "metadata": {}
   },
   "outputs": [],
   "source": [
    "data['numeric_price'] = data['numeric_price'].str.rstrip('.')"
   ]
  },
  {
   "cell_type": "markdown",
   "metadata": {},
   "source": [
    "price 실수형으로 변경"
   ]
  },
  {
   "cell_type": "code",
   "execution_count": 83,
   "metadata": {
    "metadata": {}
   },
   "outputs": [],
   "source": [
    "data['numeric_price'] = data['numeric_price'].astype('float')"
   ]
  },
  {
   "cell_type": "markdown",
   "metadata": {},
   "source": [
    "### 환율 계산"
   ]
  },
  {
   "cell_type": "code",
   "execution_count": 84,
   "metadata": {
    "metadata": {}
   },
   "outputs": [
    {
     "data": {
      "text/plain": [
       "array(['KRW', 'USD', 'EUR', 'CNY', 'GBP'], dtype=object)"
      ]
     },
     "execution_count": 84,
     "metadata": {},
     "output_type": "execute_result"
    }
   ],
   "source": [
    "data[\"currency\"].unique()"
   ]
  },
  {
   "cell_type": "code",
   "execution_count": 91,
   "metadata": {
    "metadata": {}
   },
   "outputs": [],
   "source": [
    "def calculate_exchange_rate(row):\n",
    "    price = row[\"numeric_price\"]\n",
    "    currency = row[\"currency\"]\n",
    "\n",
    "    if currency == \"GBP\":\n",
    "        return price * 1719.29\n",
    "    elif currency == \"USD\":\n",
    "        return price * 1365.00\n",
    "    elif currency == \"CNY\":\n",
    "        return price * 189.00\n",
    "    elif currency == \"EUR\":\n",
    "        return price * 1477.48\n",
    "    else: return price"
   ]
  },
  {
   "cell_type": "code",
   "execution_count": 92,
   "metadata": {
    "metadata": {}
   },
   "outputs": [],
   "source": [
    "data[\"price\"] = data.apply(calculate_exchange_rate, axis=1)"
   ]
  },
  {
   "cell_type": "code",
   "execution_count": 93,
   "metadata": {
    "metadata": {}
   },
   "outputs": [
    {
     "data": {
      "text/html": [
       "<div>\n",
       "<style scoped>\n",
       "    .dataframe tbody tr th:only-of-type {\n",
       "        vertical-align: middle;\n",
       "    }\n",
       "\n",
       "    .dataframe tbody tr th {\n",
       "        vertical-align: top;\n",
       "    }\n",
       "\n",
       "    .dataframe thead th {\n",
       "        text-align: right;\n",
       "    }\n",
       "</style>\n",
       "<table border=\"1\" class=\"dataframe\">\n",
       "  <thead>\n",
       "    <tr style=\"text-align: right;\">\n",
       "      <th></th>\n",
       "      <th>title</th>\n",
       "      <th>created_at</th>\n",
       "      <th>price</th>\n",
       "      <th>views</th>\n",
       "      <th>votes</th>\n",
       "      <th>year</th>\n",
       "      <th>currency</th>\n",
       "      <th>numeric_price</th>\n",
       "    </tr>\n",
       "  </thead>\n",
       "  <tbody>\n",
       "    <tr>\n",
       "      <th>3</th>\n",
       "      <td>[알리] XrayDisk M.2 NVMe 512GB Pro ($13.20)</td>\n",
       "      <td>2024-05-13</td>\n",
       "      <td>18018.00</td>\n",
       "      <td>2700</td>\n",
       "      <td>6</td>\n",
       "      <td>2024</td>\n",
       "      <td>USD</td>\n",
       "      <td>13.20</td>\n",
       "    </tr>\n",
       "    <tr>\n",
       "      <th>37</th>\n",
       "      <td>[Amazon]wavlink 썬더볼트 독($49/무료)</td>\n",
       "      <td>2024-05-12</td>\n",
       "      <td>66885.00</td>\n",
       "      <td>6800</td>\n",
       "      <td>8</td>\n",
       "      <td>2024</td>\n",
       "      <td>USD</td>\n",
       "      <td>49.00</td>\n",
       "    </tr>\n",
       "    <tr>\n",
       "      <th>39</th>\n",
       "      <td>[뉴에그] MSI 4060ti (+패드) 몬스터헌터 콜라보 에디션 (백오더)</td>\n",
       "      <td>2024-05-12</td>\n",
       "      <td>682486.35</td>\n",
       "      <td>13100</td>\n",
       "      <td>2</td>\n",
       "      <td>2024</td>\n",
       "      <td>USD</td>\n",
       "      <td>499.99</td>\n",
       "    </tr>\n",
       "    <tr>\n",
       "      <th>42</th>\n",
       "      <td>[알리] Rocoren 60W 0.5M 0.39달러 (외 100W/240W 및 다양...</td>\n",
       "      <td>2024-05-12</td>\n",
       "      <td>532.35</td>\n",
       "      <td>6300</td>\n",
       "      <td>2</td>\n",
       "      <td>2024</td>\n",
       "      <td>USD</td>\n",
       "      <td>0.39</td>\n",
       "    </tr>\n",
       "    <tr>\n",
       "      <th>43</th>\n",
       "      <td>[알리]XrayDisk M.2 SSD 1TB</td>\n",
       "      <td>2024-05-12</td>\n",
       "      <td>50136.45</td>\n",
       "      <td>10100</td>\n",
       "      <td>6</td>\n",
       "      <td>2024</td>\n",
       "      <td>USD</td>\n",
       "      <td>36.73</td>\n",
       "    </tr>\n",
       "    <tr>\n",
       "      <th>...</th>\n",
       "      <td>...</td>\n",
       "      <td>...</td>\n",
       "      <td>...</td>\n",
       "      <td>...</td>\n",
       "      <td>...</td>\n",
       "      <td>...</td>\n",
       "      <td>...</td>\n",
       "      <td>...</td>\n",
       "    </tr>\n",
       "    <tr>\n",
       "      <th>27472</th>\n",
       "      <td>[아마존]Seagate Expansion Desktop 10TB 189.99</td>\n",
       "      <td>2021-01-06</td>\n",
       "      <td>259336.35</td>\n",
       "      <td>3500</td>\n",
       "      <td>3</td>\n",
       "      <td>2021</td>\n",
       "      <td>USD</td>\n",
       "      <td>189.99</td>\n",
       "    </tr>\n",
       "    <tr>\n",
       "      <th>27502</th>\n",
       "      <td>[newegg,amazon] seagate expansion 12tb 적출용하드</td>\n",
       "      <td>2021-01-05</td>\n",
       "      <td>271635.00</td>\n",
       "      <td>5900</td>\n",
       "      <td>9</td>\n",
       "      <td>2021</td>\n",
       "      <td>USD</td>\n",
       "      <td>199.00</td>\n",
       "    </tr>\n",
       "    <tr>\n",
       "      <th>27508</th>\n",
       "      <td>[아마존]razer nari wireless 헤드셋 (89.99달러/40%세일)</td>\n",
       "      <td>2021-01-04</td>\n",
       "      <td>122836.35</td>\n",
       "      <td>3400</td>\n",
       "      <td>1</td>\n",
       "      <td>2021</td>\n",
       "      <td>USD</td>\n",
       "      <td>89.99</td>\n",
       "    </tr>\n",
       "    <tr>\n",
       "      <th>27548</th>\n",
       "      <td>[뉴에그] MX500 500GB 48.99$</td>\n",
       "      <td>2021-01-02</td>\n",
       "      <td>66871.35</td>\n",
       "      <td>3600</td>\n",
       "      <td>5</td>\n",
       "      <td>2021</td>\n",
       "      <td>USD</td>\n",
       "      <td>48.99</td>\n",
       "    </tr>\n",
       "    <tr>\n",
       "      <th>27554</th>\n",
       "      <td>[뉴에그] WD Gold 4TB HDD $150</td>\n",
       "      <td>2021-01-01</td>\n",
       "      <td>204736.35</td>\n",
       "      <td>5300</td>\n",
       "      <td>1</td>\n",
       "      <td>2021</td>\n",
       "      <td>USD</td>\n",
       "      <td>149.99</td>\n",
       "    </tr>\n",
       "  </tbody>\n",
       "</table>\n",
       "<p>1333 rows × 8 columns</p>\n",
       "</div>"
      ],
      "text/plain": [
       "                                                   title  created_at  \\\n",
       "3              [알리] XrayDisk M.2 NVMe 512GB Pro ($13.20)  2024-05-13   \n",
       "37                        [Amazon]wavlink 썬더볼트 독($49/무료)  2024-05-12   \n",
       "39            [뉴에그] MSI 4060ti (+패드) 몬스터헌터 콜라보 에디션 (백오더)  2024-05-12   \n",
       "42     [알리] Rocoren 60W 0.5M 0.39달러 (외 100W/240W 및 다양...  2024-05-12   \n",
       "43                              [알리]XrayDisk M.2 SSD 1TB  2024-05-12   \n",
       "...                                                  ...         ...   \n",
       "27472         [아마존]Seagate Expansion Desktop 10TB 189.99  2021-01-06   \n",
       "27502       [newegg,amazon] seagate expansion 12tb 적출용하드  2021-01-05   \n",
       "27508       [아마존]razer nari wireless 헤드셋 (89.99달러/40%세일)  2021-01-04   \n",
       "27548                           [뉴에그] MX500 500GB 48.99$  2021-01-02   \n",
       "27554                         [뉴에그] WD Gold 4TB HDD $150  2021-01-01   \n",
       "\n",
       "           price  views  votes  year currency  numeric_price  \n",
       "3       18018.00   2700      6  2024      USD          13.20  \n",
       "37      66885.00   6800      8  2024      USD          49.00  \n",
       "39     682486.35  13100      2  2024      USD         499.99  \n",
       "42        532.35   6300      2  2024      USD           0.39  \n",
       "43      50136.45  10100      6  2024      USD          36.73  \n",
       "...          ...    ...    ...   ...      ...            ...  \n",
       "27472  259336.35   3500      3  2021      USD         189.99  \n",
       "27502  271635.00   5900      9  2021      USD         199.00  \n",
       "27508  122836.35   3400      1  2021      USD          89.99  \n",
       "27548   66871.35   3600      5  2021      USD          48.99  \n",
       "27554  204736.35   5300      1  2021      USD         149.99  \n",
       "\n",
       "[1333 rows x 8 columns]"
      ]
     },
     "execution_count": 93,
     "metadata": {},
     "output_type": "execute_result"
    }
   ],
   "source": [
    "# 확인\n",
    "data[data[\"currency\"]==\"USD\"]"
   ]
  },
  {
   "cell_type": "markdown",
   "metadata": {},
   "source": [
    "필요한 컬럼만 남겨 저장"
   ]
  },
  {
   "cell_type": "code",
   "execution_count": 95,
   "metadata": {
    "metadata": {}
   },
   "outputs": [],
   "source": [
    "res_data = data[[\"title\", \"created_at\", \"price\", \"views\", \"votes\"]]"
   ]
  },
  {
   "cell_type": "code",
   "execution_count": 96,
   "metadata": {
    "metadata": {}
   },
   "outputs": [
    {
     "data": {
      "text/html": [
       "<div>\n",
       "<style scoped>\n",
       "    .dataframe tbody tr th:only-of-type {\n",
       "        vertical-align: middle;\n",
       "    }\n",
       "\n",
       "    .dataframe tbody tr th {\n",
       "        vertical-align: top;\n",
       "    }\n",
       "\n",
       "    .dataframe thead th {\n",
       "        text-align: right;\n",
       "    }\n",
       "</style>\n",
       "<table border=\"1\" class=\"dataframe\">\n",
       "  <thead>\n",
       "    <tr style=\"text-align: right;\">\n",
       "      <th></th>\n",
       "      <th>title</th>\n",
       "      <th>created_at</th>\n",
       "      <th>price</th>\n",
       "      <th>views</th>\n",
       "      <th>votes</th>\n",
       "    </tr>\n",
       "  </thead>\n",
       "  <tbody>\n",
       "    <tr>\n",
       "      <th>0</th>\n",
       "      <td>[지마켓] SF-1200F14XP LEADEX VII PLATINUM PRO ATX...</td>\n",
       "      <td>2024-05-13</td>\n",
       "      <td>276680.0</td>\n",
       "      <td>216</td>\n",
       "      <td>0</td>\n",
       "    </tr>\n",
       "    <tr>\n",
       "      <th>1</th>\n",
       "      <td>[오늘의집] 삼성 브랜드위크 S32CG550 외 7건 (273,773/무배)</td>\n",
       "      <td>2024-05-13</td>\n",
       "      <td>273773.0</td>\n",
       "      <td>521</td>\n",
       "      <td>0</td>\n",
       "    </tr>\n",
       "    <tr>\n",
       "      <th>2</th>\n",
       "      <td>[위메프] ASUS ROG STRIX B650-A GAMING WIFI 대원씨티에스...</td>\n",
       "      <td>2024-05-13</td>\n",
       "      <td>299700.0</td>\n",
       "      <td>1600</td>\n",
       "      <td>0</td>\n",
       "    </tr>\n",
       "    <tr>\n",
       "      <th>3</th>\n",
       "      <td>[알리] XrayDisk M.2 NVMe 512GB Pro ($13.20)</td>\n",
       "      <td>2024-05-13</td>\n",
       "      <td>18018.0</td>\n",
       "      <td>2700</td>\n",
       "      <td>6</td>\n",
       "    </tr>\n",
       "    <tr>\n",
       "      <th>4</th>\n",
       "      <td>[지마켓] LIAN LI UNI FAN SL-INF 120 RGB 화이트 3팩</td>\n",
       "      <td>2024-05-13</td>\n",
       "      <td>110500.0</td>\n",
       "      <td>1500</td>\n",
       "      <td>2</td>\n",
       "    </tr>\n",
       "    <tr>\n",
       "      <th>...</th>\n",
       "      <td>...</td>\n",
       "      <td>...</td>\n",
       "      <td>...</td>\n",
       "      <td>...</td>\n",
       "      <td>...</td>\n",
       "    </tr>\n",
       "    <tr>\n",
       "      <th>27555</th>\n",
       "      <td>[SSG] BRAVOTEC 1140M 타이탄 글래스 케이스 / 95,475원</td>\n",
       "      <td>2021-01-01</td>\n",
       "      <td>95475.0</td>\n",
       "      <td>7600</td>\n",
       "      <td>8</td>\n",
       "    </tr>\n",
       "    <tr>\n",
       "      <th>27556</th>\n",
       "      <td>[옥션] 샌디스크 ULTRA M.2 NVMe 500GB (64600/0)</td>\n",
       "      <td>2021-01-01</td>\n",
       "      <td>64600.0</td>\n",
       "      <td>5400</td>\n",
       "      <td>8</td>\n",
       "    </tr>\n",
       "    <tr>\n",
       "      <th>27557</th>\n",
       "      <td>[11번가]  시놀로지 DS920+ 할인  NAS 스토리지 4베이 +정품+</td>\n",
       "      <td>2021-01-01</td>\n",
       "      <td>657390.0</td>\n",
       "      <td>7900</td>\n",
       "      <td>5</td>\n",
       "    </tr>\n",
       "    <tr>\n",
       "      <th>27558</th>\n",
       "      <td>[인터파크] AMD 5600X (멀티팩) 국민카드 청구할인</td>\n",
       "      <td>2021-01-01</td>\n",
       "      <td>371061.0</td>\n",
       "      <td>10700</td>\n",
       "      <td>7</td>\n",
       "    </tr>\n",
       "    <tr>\n",
       "      <th>27559</th>\n",
       "      <td>[브라보텍] 딥쿨 어쌔신3 리퍼 (S급)</td>\n",
       "      <td>2021-01-01</td>\n",
       "      <td>65000.0</td>\n",
       "      <td>5900</td>\n",
       "      <td>7</td>\n",
       "    </tr>\n",
       "  </tbody>\n",
       "</table>\n",
       "<p>27557 rows × 5 columns</p>\n",
       "</div>"
      ],
      "text/plain": [
       "                                                   title  created_at  \\\n",
       "0      [지마켓] SF-1200F14XP LEADEX VII PLATINUM PRO ATX...  2024-05-13   \n",
       "1             [오늘의집] 삼성 브랜드위크 S32CG550 외 7건 (273,773/무배)  2024-05-13   \n",
       "2      [위메프] ASUS ROG STRIX B650-A GAMING WIFI 대원씨티에스...  2024-05-13   \n",
       "3              [알리] XrayDisk M.2 NVMe 512GB Pro ($13.20)  2024-05-13   \n",
       "4            [지마켓] LIAN LI UNI FAN SL-INF 120 RGB 화이트 3팩  2024-05-13   \n",
       "...                                                  ...         ...   \n",
       "27555         [SSG] BRAVOTEC 1140M 타이탄 글래스 케이스 / 95,475원  2021-01-01   \n",
       "27556           [옥션] 샌디스크 ULTRA M.2 NVMe 500GB (64600/0)  2021-01-01   \n",
       "27557          [11번가]  시놀로지 DS920+ 할인  NAS 스토리지 4베이 +정품+  2021-01-01   \n",
       "27558                   [인터파크] AMD 5600X (멀티팩) 국민카드 청구할인  2021-01-01   \n",
       "27559                             [브라보텍] 딥쿨 어쌔신3 리퍼 (S급)  2021-01-01   \n",
       "\n",
       "          price  views  votes  \n",
       "0      276680.0    216      0  \n",
       "1      273773.0    521      0  \n",
       "2      299700.0   1600      0  \n",
       "3       18018.0   2700      6  \n",
       "4      110500.0   1500      2  \n",
       "...         ...    ...    ...  \n",
       "27555   95475.0   7600      8  \n",
       "27556   64600.0   5400      8  \n",
       "27557  657390.0   7900      5  \n",
       "27558  371061.0  10700      7  \n",
       "27559   65000.0   5900      7  \n",
       "\n",
       "[27557 rows x 5 columns]"
      ]
     },
     "execution_count": 96,
     "metadata": {},
     "output_type": "execute_result"
    }
   ],
   "source": [
    "res_data"
   ]
  },
  {
   "cell_type": "code",
   "execution_count": 97,
   "metadata": {
    "metadata": {}
   },
   "outputs": [],
   "source": [
    "res_data.to_csv(\"hotdeal-info_price.csv\", encoding=\"UTF-8\", index=False)"
   ]
  }
 ],
 "metadata": {
  "kernelspec": {
   "display_name": "Python 3",
   "language": "python",
   "name": "python3"
  },
  "language_info": {
   "codemirror_mode": {
    "name": "ipython",
    "version": 3
   },
   "file_extension": ".py",
   "mimetype": "text/x-python",
   "name": "python",
   "nbconvert_exporter": "python",
   "pygments_lexer": "ipython3",
   "version": "3.8.8"
  }
 },
 "nbformat": 4,
 "nbformat_minor": 2
}
